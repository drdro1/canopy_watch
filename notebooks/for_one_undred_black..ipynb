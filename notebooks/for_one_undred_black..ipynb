{
 "cells": [
  {
   "cell_type": "code",
   "execution_count": 1,
   "metadata": {},
   "outputs": [],
   "source": [
    "import numpy as np\n",
    "from PIL import Image, ImageOps"
   ]
  },
  {
   "cell_type": "code",
   "execution_count": 3,
   "metadata": {},
   "outputs": [],
   "source": [
    "# Source Test img\n",
    "img = np.array(Image.open('/home/blackteukbeu/Downloads/DataSet/canape/archive/Forest Segmented/Forest Segmented/masks/855_mask_02.jpg'))"
   ]
  },
  {
   "cell_type": "code",
   "execution_count": null,
   "metadata": {},
   "outputs": [],
   "source": [
    "img"
   ]
  },
  {
   "cell_type": "markdown",
   "metadata": {},
   "source": [
    "## API Sequential"
   ]
  },
  {
   "cell_type": "code",
   "execution_count": null,
   "metadata": {},
   "outputs": [],
   "source": [
    "inputs = keras.Input(shape=(28,28,1))\n",
    "\n",
    "x = keras.layers.Flatten()(inputs)\n",
    "x = keras.layers.Dense(hidden1, activation='relu')(x)\n",
    "x = keras.layers.Dense(hidden2, activation='relu')(x)\n",
    "outputs = keras.layers.Dense(10, activation='softmax')(x)\n",
    "model = keras.Model(inputs=inputs, outputs=outputs)"
   ]
  },
  {
   "cell_type": "markdown",
   "metadata": {},
   "source": [
    "## Inception model"
   ]
  },
  {
   "cell_type": "code",
   "execution_count": null,
   "metadata": {},
   "outputs": [],
   "source": [
    "input = keras.Input(shape=(28, 28, 1))\n",
    "\n",
    "denoised = ae(inputs)\n",
    "\n",
    "x_cnn1 = cnn1(inputs)\n",
    "x_cnn2 = cnn2(inputs)\n",
    "x = keras.layers.concatenate([x_cnn1,x_cnn2], axis=1)\n"
   ]
  },
  {
   "cell_type": "markdown",
   "metadata": {},
   "source": [
    "### Compilation & fit\n",
    "##### (In case of multiple outputs)\n",
    "##### compilation in case of multiple outputs, we will specify a loss function for each output:"
   ]
  },
  {
   "cell_type": "code",
   "execution_count": null,
   "metadata": {},
   "outputs": [],
   "source": [
    "model.compile( optimizer = 'adam', loss =  ['categorical_crossentropy', 'mse'], loss_weights = [0.25, 1.])"
   ]
  },
  {
   "cell_type": "markdown",
   "metadata": {},
   "source": [
    "##### fit in case of multiple inouts (outputs), an input (outputs) list will be given, for exemple:"
   ]
  },
  {
   "cell_type": "code",
   "execution_count": null,
   "metadata": {},
   "outputs": [],
   "source": [
    "model.fit([x_train1, x_train2], [y_train1, y_train2], epochs = 10, batch_size = 64)"
   ]
  },
  {
   "cell_type": "markdown",
   "metadata": {},
   "source": [
    "# Traitement d'image"
   ]
  },
  {
   "cell_type": "code",
   "execution_count": null,
   "metadata": {},
   "outputs": [],
   "source": [
    "new_size = (1399, 100)\n",
    "resized_img = img_rot.resize(new_size)\n",
    "im_invert = ImageOps.invert(resized_img)\n",
    "im_invert.save('image_redim.jpg')"
   ]
  },
  {
   "cell_type": "code",
   "execution_count": null,
   "metadata": {},
   "outputs": [],
   "source": [
    "# The folder for save files\n",
    "output_dir = '/home/blackteukbeu/Downloads/DataSet/IGN_maps/millau'"
   ]
  },
  {
   "cell_type": "code",
   "execution_count": null,
   "metadata": {},
   "outputs": [],
   "source": [
    "# Amplitude\n",
    "start_num = 207\n",
    "end_num = 1943"
   ]
  },
  {
   "cell_type": "code",
   "execution_count": null,
   "metadata": {},
   "outputs": [],
   "source": [
    "# Create a request for ign site\n",
    "for i in range(start_num, end_num + 1):\n",
    "    num_str = str(i).zfill(4)\n",
    "    day = 1\n",
    "    date = str(day).zfill(2)\n",
    "    request = requests.get(f'https://data.geopf.fr/telechargement/download/pva/P04000222/IGNF_PVA_1-0__2004-06-{date}__CP04000222_2004_fd0048_250_c_{num_str}.tif', stream=True)\n",
    "    print(request.status_code)\n",
    "    if request.status_code == 200:\n",
    "        with open(f'/home/blackteukbeu/Downloads/DataSet/IGN_maps/millau/{num_str}.png', 'wb') as out_file:\n",
    "            shutil.copyfileobj(request.raw, out_file)\n",
    "    else:\n",
    "        while request.status_code != 200:\n",
    "            day+= 2\n",
    "            date = str(day).zfill(2)\n",
    "            request = requests.get(f'https://data.geopf.fr/telechargement/download/pva/P04000222/IGNF_PVA_1-0__2004-06-{date}__CP04000222_2004_fd0048_250_c_{num_str}.tif', stream=True)\n",
    "            print(f'trying next day, {date} ', request.status_code)\n",
    "            if day == 31:\n",
    "                break\n",
    "            if request.status_code == 200:\n",
    "                with open(f'/home/blackteukbeu/Downloads/DataSet/IGN_maps/millau/{num_str}.png', 'wb') as out_file:\n",
    "                    shutil.copyfileobj(request.raw, out_file)"
   ]
  },
  {
   "cell_type": "markdown",
   "metadata": {},
   "source": [
    "# U-NET   'Jules'"
   ]
  },
  {
   "cell_type": "code",
   "execution_count": null,
   "metadata": {},
   "outputs": [],
   "source": []
  }
 ],
 "metadata": {
  "kernelspec": {
   "display_name": "canopy_watch",
   "language": "python",
   "name": "python3"
  },
  "language_info": {
   "codemirror_mode": {
    "name": "ipython",
    "version": 3
   },
   "file_extension": ".py",
   "mimetype": "text/x-python",
   "name": "python",
   "nbconvert_exporter": "python",
   "pygments_lexer": "ipython3",
   "version": "3.10.6"
  }
 },
 "nbformat": 4,
 "nbformat_minor": 2
}
