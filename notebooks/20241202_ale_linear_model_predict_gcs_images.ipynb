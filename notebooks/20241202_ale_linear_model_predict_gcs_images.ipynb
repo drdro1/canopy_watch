{
 "cells": [
  {
   "cell_type": "code",
   "execution_count": null,
   "metadata": {},
   "outputs": [],
   "source": [
    "%load_ext autoreload\n",
    "%autoreload 2"
   ]
  },
  {
   "cell_type": "code",
   "execution_count": null,
   "metadata": {},
   "outputs": [],
   "source": [
    "import pandas as pd\n",
    "import os\n",
    "from PIL import Image\n",
    "import numpy as np\n",
    "import matplotlib.pyplot as plt\n",
    "from keras.callbacks import EarlyStopping\n",
    "from canopywatch.params import BASE_DIR\n",
    "from canopywatch.ml_logic.registry import save_model, load_model, load_predict_images\n",
    "from canopywatch.ml_logic.preprocessor import image_preprocessing\n",
    "from canopywatch.interface.linear_model_ops import preprocess, train\n",
    "from sklearn.model_selection import train_test_split\n",
    "\n",
    "from tensorflow.keras import models, layers, utils, Model\n",
    "from tensorflow.keras.callbacks import EarlyStopping\n",
    "from tensorflow.keras.optimizers import Adam"
   ]
  },
  {
   "cell_type": "code",
   "execution_count": 19,
   "metadata": {},
   "outputs": [
    {
     "name": "stdout",
     "output_type": "stream",
     "text": [
      "\u001b[34m\n",
      "Loading images from GCS path: data_predict/images/...\u001b[0m\n",
      "\n",
      "✅ Successfully downloaded 13 images to: /Users/alejandrosantamaria/code/drdro1/canopy_watch/data_predict/images\n"
     ]
    },
    {
     "data": {
      "text/plain": [
       "['/Users/alejandrosantamaria/code/drdro1/canopy_watch/data_predict/images/998002_sat_50.jpg',\n",
       " '/Users/alejandrosantamaria/code/drdro1/canopy_watch/data_predict/images/cameroon_image_end_3_.jpeg',\n",
       " '/Users/alejandrosantamaria/code/drdro1/canopy_watch/data_predict/images/cameroon_image_start_3.jpeg',\n",
       " '/Users/alejandrosantamaria/code/drdro1/canopy_watch/data_predict/images/image_2015_2018_cameroon_defo_1_end.jpeg.jpeg',\n",
       " '/Users/alejandrosantamaria/code/drdro1/canopy_watch/data_predict/images/image_2015_2018_cameroon_defo_1_start.jpeg.jpeg',\n",
       " '/Users/alejandrosantamaria/code/drdro1/canopy_watch/data_predict/images/image_2018_2024_france_refo_1_end.jpeg.jpeg',\n",
       " '/Users/alejandrosantamaria/code/drdro1/canopy_watch/data_predict/images/image_2018_2024_france_refo_1_start.jpeg.jpeg',\n",
       " '/Users/alejandrosantamaria/code/drdro1/canopy_watch/data_predict/images/image_2019_2021_cameroon_defo_11_end.jpeg.jpeg',\n",
       " '/Users/alejandrosantamaria/code/drdro1/canopy_watch/data_predict/images/image_2019_2021_cameroon_defo_11_start.jpeg.jpeg',\n",
       " '/Users/alejandrosantamaria/code/drdro1/canopy_watch/data_predict/images/image_2020_2022_cameroon_defo_2_end.jpeg.jpeg',\n",
       " '/Users/alejandrosantamaria/code/drdro1/canopy_watch/data_predict/images/image_2020_2022_cameroon_defo_2_start.jpeg.jpeg',\n",
       " '/Users/alejandrosantamaria/code/drdro1/canopy_watch/data_predict/images/image_2020_2024_france_city_1_end.jpeg.jpeg',\n",
       " '/Users/alejandrosantamaria/code/drdro1/canopy_watch/data_predict/images/image_2020_2024_france_city_1_start.jpeg.jpeg']"
      ]
     },
     "execution_count": 19,
     "metadata": {},
     "output_type": "execute_result"
    }
   ],
   "source": [
    "load_predict_images(True)"
   ]
  },
  {
   "cell_type": "code",
   "execution_count": 18,
   "metadata": {},
   "outputs": [
    {
     "name": "stdout",
     "output_type": "stream",
     "text": [
      "\u001b[34m\n",
      "Load latest model from local registry...\u001b[0m\n",
      "\u001b[34m\n",
      "Load chosen model from disk...\u001b[0m\n",
      "✅ Model loaded from local disk\n",
      "\u001b[34m\n",
      "Load latest model from local registry...\u001b[0m\n",
      "\u001b[34m\n",
      "Load chosen model from disk...\u001b[0m\n",
      "✅ Model loaded from local disk\n",
      "1/1 [==============================] - 0s 53ms/step\n",
      "1/1 [==============================] - 0s 13ms/step\n"
     ]
    },
    {
     "data": {
      "text/plain": [
       "(array([[0.75230914]], dtype=float32), array([[0.24541995]], dtype=float32))"
      ]
     },
     "execution_count": 18,
     "metadata": {},
     "output_type": "execute_result"
    }
   ],
   "source": [
    "linear_model_1 = load_model('linear_model_1.h5')\n",
    "linear_model_2 = load_model('linear_model_2.h5')\n",
    "\n",
    "cam_start = image_preprocessing(os.path.join(BASE_DIR, \"data_predict\", \"images\", \"cameroon_image_start_3.jpeg\"))\n",
    "cam_end = image_preprocessing(os.path.join(BASE_DIR, \"data_predict\", \"images\", \"cameroon_image_end_3_.jpeg\"))\n",
    "pred_cam_start = linear_model_2.predict(np.expand_dims(cam_start, axis=0))\n",
    "pred_cam_end = linear_model_2.predict(np.expand_dims(cam_end, axis=0))\n",
    "\n",
    "pred_cam_start, pred_cam_end"
   ]
  }
 ],
 "metadata": {
  "kernelspec": {
   "display_name": "canopy_watch",
   "language": "python",
   "name": "python3"
  },
  "language_info": {
   "codemirror_mode": {
    "name": "ipython",
    "version": 3
   },
   "file_extension": ".py",
   "mimetype": "text/x-python",
   "name": "python",
   "nbconvert_exporter": "python",
   "pygments_lexer": "ipython3",
   "version": "3.10.6"
  }
 },
 "nbformat": 4,
 "nbformat_minor": 2
}
